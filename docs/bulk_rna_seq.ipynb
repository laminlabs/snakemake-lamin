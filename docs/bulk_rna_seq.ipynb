{
 "cells": [
  {
   "cell_type": "markdown",
   "metadata": {},
   "source": [
    "# Snakemake"
   ]
  },
  {
   "cell_type": "markdown",
   "metadata": {},
   "source": [
    "```{note}\n",
    "This notebook serves as a demo for Python scripting that you could run before and after Snakemake runs.\n",
    "Typically, you would include lamindb logic directly in your Snakemake workflow.\n",
    "```"
   ]
  },
  {
   "cell_type": "markdown",
   "metadata": {},
   "source": [
    "[Snakemake](https://snakemake.readthedocs.io/en/stable/) is a workflow manager for executing scientific workflows across platforms scalably, portably, and reproducibly.\n",
    "\n",
    "This guide shows how to track a Snakemake run with inputs & outputs for the example of the [snakemake-workflows/rna-seq-star-deseq2](https://github.com/snakemake-workflows/rna-seq-star-deseq2) pipeline by running a Python script."
   ]
  },
  {
   "cell_type": "markdown",
   "metadata": {},
   "source": [
    "First we clone the Snakemake pipeline with git. Because the test datasets come with the repo and, for simplicity, we want to avoid moving them into another directory, we initialize a LaminDB instance in the same directory."
   ]
  },
  {
   "cell_type": "code",
   "execution_count": null,
   "metadata": {
    "tags": [
     "hide-output"
    ]
   },
   "outputs": [],
   "source": [
    "# pip install lamindb snakemake\n",
    "!git clone https://github.com/snakemake-workflows/rna-seq-star-deseq2 --single-branch --branch v3.1.0\n",
    "!lamin init --storage ./rna-seq-star-deseq2"
   ]
  },
  {
   "cell_type": "code",
   "execution_count": null,
   "metadata": {
    "tags": [
     "hide-output"
    ]
   },
   "outputs": [],
   "source": [
    "import lamindb as ln"
   ]
  },
  {
   "cell_type": "markdown",
   "metadata": {},
   "source": [
    "## Registering inputs"
   ]
  },
  {
   "cell_type": "code",
   "execution_count": null,
   "metadata": {
    "tags": [
     "hide-output"
    ]
   },
   "outputs": [],
   "source": [
    "root_dir = \"rna-seq-star-deseq2\"\n",
    "sample_sheet = ln.Artifact(f\"{root_dir}/.test/config_basic/samples.tsv\").save()\n",
    "input_fastqs = ln.Artifact.from_dir(f\"{root_dir}/.test/ngs-test-data/reads/\")\n",
    "ln.save(input_fastqs)"
   ]
  },
  {
   "cell_type": "markdown",
   "metadata": {},
   "source": [
    "## Track a Snakemake run"
   ]
  },
  {
   "cell_type": "markdown",
   "metadata": {},
   "source": [
    "Track the Snakemake workflow & run:"
   ]
  },
  {
   "cell_type": "code",
   "execution_count": null,
   "metadata": {
    "tags": [
     "hide-output"
    ]
   },
   "outputs": [],
   "source": [
    "transform = ln.Transform(\n",
    "    key=\"snakemake-rna-seq-star-deseq2\",\n",
    "    version=\"2.0.0\",\n",
    "    type=\"pipeline\",\n",
    "    reference=\"https://github.com/snakemake-workflows/rna-seq-star-deseq2\",\n",
    ")\n",
    "ln.track(transform)"
   ]
  },
  {
   "cell_type": "markdown",
   "metadata": {},
   "source": [
    "If we call `cache()` on the input artifacts, they’ll be downloaded into a cache and tracked as run inputs. In this test case however, no download happened because the files are already available locally."
   ]
  },
  {
   "cell_type": "code",
   "execution_count": null,
   "metadata": {
    "tags": [
     "hide-output"
    ]
   },
   "outputs": [],
   "source": [
    "input_sample_sheet_path = sample_sheet.cache()\n",
    "input_paths = [input_fastq.cache() for input_fastq in input_fastqs]"
   ]
  },
  {
   "cell_type": "markdown",
   "metadata": {},
   "source": [
    "Let's run the pipeline."
   ]
  },
  {
   "cell_type": "code",
   "execution_count": null,
   "metadata": {
    "tags": [
     "hide-output"
    ]
   },
   "outputs": [],
   "source": [
    "!snakemake \\\n",
    "    --directory rna-seq-star-deseq2/.test \\\n",
    "    --snakefile rna-seq-star-deseq2/workflow/Snakefile \\\n",
    "    --configfile rna-seq-star-deseq2/.test/config_basic/config.yaml \\\n",
    "    --use-conda \\\n",
    "    --show-failed-logs \\\n",
    "    --cores 2 \\\n",
    "    --conda-frontend conda \\\n",
    "    --conda-cleanup-pkgs cache"
   ]
  },
  {
   "cell_type": "markdown",
   "metadata": {},
   "source": [
    "## Registering outputs"
   ]
  },
  {
   "cell_type": "markdown",
   "metadata": {
    "pycharm": {
     "name": "#%% md\n"
    }
   },
   "source": [
    "Quality control."
   ]
  },
  {
   "cell_type": "code",
   "execution_count": null,
   "metadata": {
    "tags": [
     "hide-output"
    ]
   },
   "outputs": [],
   "source": [
    "multiqc_file = ln.Artifact(f\"{root_dir}/.test/results/qc/multiqc_report.html\").save()"
   ]
  },
  {
   "cell_type": "markdown",
   "metadata": {},
   "source": [
    ":::{dropdown} How would I register all QC files?\n",
    "\n",
    "```python\n",
    "multiqc_results = ln.Artifact.from_dir(f\"{root_dir}/results/qc/multiqc_report_data/\")\n",
    "ln.save(multiqc_results)\n",
    "```\n",
    "\n",
    ":::"
   ]
  },
  {
   "cell_type": "markdown",
   "metadata": {
    "pycharm": {
     "name": "#%% md\n"
    }
   },
   "source": [
    "Count matrix."
   ]
  },
  {
   "cell_type": "code",
   "execution_count": null,
   "metadata": {
    "tags": [
     "hide-output"
    ]
   },
   "outputs": [],
   "source": [
    "count_matrix = ln.Artifact(f\"{root_dir}/.test/results/counts/all.symbol.tsv\")\n",
    "count_matrix.save()"
   ]
  },
  {
   "cell_type": "markdown",
   "metadata": {},
   "source": [
    "## Visualize"
   ]
  },
  {
   "cell_type": "markdown",
   "metadata": {},
   "source": [
    "View data lineage:"
   ]
  },
  {
   "cell_type": "code",
   "execution_count": null,
   "metadata": {},
   "outputs": [],
   "source": [
    "count_matrix.view_lineage()"
   ]
  },
  {
   "cell_type": "markdown",
   "metadata": {},
   "source": [
    "# Appendix"
   ]
  },
  {
   "cell_type": "markdown",
   "metadata": {},
   "source": [
    "## Linking biological entities\n",
    "\n",
    "To make the count matrix queryable by biological entities (genes, experimental metadata, etc.), we can now proceed with: {doc}`docs:bulkrna`"
   ]
  },
  {
   "cell_type": "markdown",
   "metadata": {
    "pycharm": {
     "name": "#%% md\n"
    }
   },
   "source": [
    "## Linking a Snakemake run ID"
   ]
  },
  {
   "cell_type": "markdown",
   "metadata": {},
   "source": [
    "Snakemake does not have an easily accessible ID that is associated with a run.\n",
    "Therefore, we need to extract it from the log files."
   ]
  },
  {
   "cell_type": "code",
   "execution_count": null,
   "metadata": {
    "tags": [
     "hide-output"
    ]
   },
   "outputs": [],
   "source": [
    "import pathlib\n",
    "from datetime import datetime\n",
    "\n",
    "PATH_TO_DOT_SNAKEMAKE_LOG = \"rna-seq-star-deseq2/.test/.snakemake/log\"\n",
    "log_files_file_names = list(\n",
    "    map(\n",
    "        lambda lf: str(lf).split(\"/\")[-1],\n",
    "        list(pathlib.Path(PATH_TO_DOT_SNAKEMAKE_LOG).glob(\"*.snakemake.log\")),\n",
    "    )\n",
    ")\n",
    "\n",
    "timestamps = [\n",
    "    datetime.strptime(filename.split(\".\")[0], \"%Y-%m-%dT%H%M%S\")\n",
    "    for filename in log_files_file_names\n",
    "]\n",
    "snakemake_id = log_files_file_names[timestamps.index(max(timestamps))].split(\".\")[1]"
   ]
  },
  {
   "cell_type": "markdown",
   "metadata": {},
   "source": [
    "Let us add the information about the session ID to our run record:"
   ]
  },
  {
   "cell_type": "code",
   "execution_count": null,
   "metadata": {
    "tags": [
     "hide-output"
    ]
   },
   "outputs": [],
   "source": [
    "run = ln.context.run  # let's grab the global run record\n",
    "run.reference = snakemake_id\n",
    "run.reference_type = \"snakemake_id\"\n",
    "run.save()"
   ]
  }
 ],
 "metadata": {
  "kernelspec": {
   "display_name": "lamindb",
   "language": "python",
   "name": "python3"
  },
  "language_info": {
   "codemirror_mode": {
    "name": "ipython",
    "version": 3
   },
   "file_extension": ".py",
   "mimetype": "text/x-python",
   "name": "python",
   "nbconvert_exporter": "python",
   "pygments_lexer": "ipython3",
   "version": "3.12.8"
  }
 },
 "nbformat": 4,
 "nbformat_minor": 4
}
