{
 "cells": [
  {
   "cell_type": "markdown",
   "metadata": {},
   "source": [
    "# Track Snakemake workflows"
   ]
  },
  {
   "cell_type": "markdown",
   "metadata": {},
   "source": [
    "[Snakemake](https://snakemake.readthedocs.io/en/stable/) is a workflow management system used for executing scientific workflows across platforms scalably, portably, and reproducibly. "
   ]
  },
  {
   "cell_type": "markdown",
   "metadata": {},
   "source": [
    "Here, we’ll run snakemake-workflows/rna-seq-star-deseq2 to perform differential gene expression analysis with STAR and deseq2 ([reference](https://github.com/snakemake-workflows/rna-seq-star-deseq2))."
   ]
  },
  {
   "cell_type": "markdown",
   "metadata": {},
   "source": [
    "## Setup"
   ]
  },
  {
   "cell_type": "markdown",
   "metadata": {},
   "source": [
    "Let’s create a test instance:"
   ]
  },
  {
   "cell_type": "code",
   "execution_count": null,
   "metadata": {},
   "outputs": [],
   "source": [
    "!lamin init --storage . --name snakemake-bulkrna"
   ]
  },
  {
   "cell_type": "code",
   "execution_count": null,
   "metadata": {},
   "outputs": [],
   "source": [
    "import lamindb as ln"
   ]
  },
  {
   "cell_type": "markdown",
   "metadata": {},
   "source": [
    "## Download test data"
   ]
  },
  {
   "cell_type": "markdown",
   "metadata": {},
   "source": [
    "The Snakemake pipeline comes with test data.\n",
    "Therefore, we clone the whole pipeline using git:"
   ]
  },
  {
   "cell_type": "code",
   "execution_count": null,
   "metadata": {
    "tags": [
     "hide-output"
    ]
   },
   "outputs": [],
   "source": [
    "!git clone https://github.com/snakemake-workflows/rna-seq-star-deseq2 --single-branch --branch v2.0.0"
   ]
  },
  {
   "cell_type": "code",
   "execution_count": null,
   "metadata": {},
   "outputs": [],
   "source": [
    "root_dir = \"rna-seq-star-deseq2\""
   ]
  },
  {
   "cell_type": "markdown",
   "metadata": {},
   "source": [
    "Track the download:"
   ]
  },
  {
   "cell_type": "code",
   "execution_count": null,
   "metadata": {},
   "outputs": [],
   "source": [
    "download = ln.Transform(name=\"Download\")\n",
    "download_url = \"https://github.com/snakemake-workflows/rna-seq-star-deseq2\"\n",
    "# create global run containing the download_url\n",
    "ln.track(download, reference=download_url, reference_type=\"url\")"
   ]
  },
  {
   "cell_type": "markdown",
   "metadata": {},
   "source": [
    "Register input files - they’ll automatically be linked against the download run:"
   ]
  },
  {
   "cell_type": "code",
   "execution_count": null,
   "metadata": {
    "tags": [
     "hide-output"
    ]
   },
   "outputs": [],
   "source": [
    "sample_sheet = ln.File(f\"{root_dir}/.test/config_basic/samples.tsv\")\n",
    "ln.save(sample_sheet)\n",
    "input_fastqs = ln.File.from_dir(f\"{root_dir}/.test/ngs-test-data/reads/\")\n",
    "ln.save(input_fastqs)"
   ]
  },
  {
   "cell_type": "markdown",
   "metadata": {},
   "source": [
    "Visualize data lineage for one of the files:"
   ]
  },
  {
   "cell_type": "code",
   "execution_count": null,
   "metadata": {},
   "outputs": [],
   "source": [
    "sample_sheet.view_flow()"
   ]
  },
  {
   "cell_type": "markdown",
   "metadata": {},
   "source": [
    "## Track Snakemake run"
   ]
  },
  {
   "cell_type": "markdown",
   "metadata": {},
   "source": [
    "(We’d start here if input files were tracked in the cloud with LaminDB rather than downloaded through git.)\n",
    "\n",
    "Track the Snakemake workflow & run:"
   ]
  },
  {
   "cell_type": "code",
   "execution_count": null,
   "metadata": {},
   "outputs": [],
   "source": [
    "transform = ln.Transform(\n",
    "    name=\"snakemake-workflows/rna-seq-star-deseq2\",\n",
    "    version=\"2.0.0\",\n",
    "    type=\"pipeline\",\n",
    "    reference=\"https://github.com/laminlabs/snakemake-lamin-usecases\",\n",
    ")\n",
    "transform.save()\n",
    "run = ln.Run(transform=transform)"
   ]
  },
  {
   "cell_type": "markdown",
   "metadata": {},
   "source": [
    "If we now stage input files, they’ll be tracked as run inputs.\n",
    "\n",
    "(In this test case, data is already locally available and staging won’t download anything.)"
   ]
  },
  {
   "cell_type": "code",
   "execution_count": null,
   "metadata": {},
   "outputs": [],
   "source": [
    "input_sample_sheet_path = sample_sheet.stage()\n",
    "input_paths = [input_fastq.stage() for input_fastq in input_fastqs]"
   ]
  },
  {
   "cell_type": "markdown",
   "metadata": {},
   "source": [
    "All data is now locally available, and we can run the snakemake pipeline:"
   ]
  },
  {
   "cell_type": "code",
   "execution_count": null,
   "metadata": {
    "tags": [
     "hide-output"
    ]
   },
   "outputs": [],
   "source": [
    "!snakemake \\\n",
    "    --directory rna-seq-star-deseq2/.test \\\n",
    "    --snakefile rna-seq-star-deseq2/workflow/Snakefile \\\n",
    "    --configfile rna-seq-star-deseq2/.test/config_basic/config.yaml \\\n",
    "    --use-conda \\\n",
    "    --show-failed-logs \\\n",
    "    --cores 2 \\\n",
    "    --conda-frontend conda \\\n",
    "    --conda-cleanup-pkgs cache"
   ]
  },
  {
   "cell_type": "markdown",
   "metadata": {},
   "source": [
    "## Register outputs"
   ]
  },
  {
   "cell_type": "markdown",
   "metadata": {
    "pycharm": {
     "name": "#%% md\n"
    }
   },
   "source": [
    "## QC"
   ]
  },
  {
   "cell_type": "code",
   "execution_count": null,
   "metadata": {},
   "outputs": [],
   "source": [
    "multiqc_file = ln.File(f\"{root_dir}/.test/results/qc/multiqc_report.html\")\n",
    "multiqc_file.save()"
   ]
  },
  {
   "cell_type": "markdown",
   "metadata": {},
   "source": [
    ":::{dropdown} How would I register all QC files?\n",
    "\n",
    "```python\n",
    "multiqc_results = ln.File.from_dir(f\"{root_dir}/results/qc/multiqc_report_data/\")\n",
    "ln.save(multiqc_results)\n",
    "```\n",
    "\n",
    ":::"
   ]
  },
  {
   "cell_type": "markdown",
   "metadata": {
    "pycharm": {
     "name": "#%% md\n"
    }
   },
   "source": [
    "## Count matrix"
   ]
  },
  {
   "cell_type": "code",
   "execution_count": null,
   "metadata": {},
   "outputs": [],
   "source": [
    "count_matrix = ln.File(f\"{root_dir}/.test/results/counts/all.symbol.tsv\")\n",
    "count_matrix.save()"
   ]
  },
  {
   "cell_type": "markdown",
   "metadata": {
    "pycharm": {
     "name": "#%% md\n"
    }
   },
   "source": [
    "## Track Snakemake ID"
   ]
  },
  {
   "cell_type": "markdown",
   "metadata": {},
   "source": [
    "Snakemake does not have an easily accessible ID that is associated with a run.\n",
    "Therefore, we need to extract it from the log files.\n",
    "We're planning to simplify this process in the future."
   ]
  },
  {
   "cell_type": "code",
   "execution_count": null,
   "metadata": {},
   "outputs": [],
   "source": [
    "import pathlib\n",
    "from datetime import datetime\n",
    "\n",
    "PATH_TO_DOT_SNAKEMAKE_LOG = \"rna-seq-star-deseq2/.test/.snakemake/log\"\n",
    "log_files_file_names = list(\n",
    "    map(\n",
    "        lambda lf: str(lf).split(\"/\")[-1],\n",
    "        list(pathlib.Path(PATH_TO_DOT_SNAKEMAKE_LOG).glob(\"*.snakemake.log\")),\n",
    "    )\n",
    ")\n",
    "\n",
    "timestamps = [\n",
    "    datetime.strptime(filename.split(\".\")[0], \"%Y-%m-%dT%H%M%S\")\n",
    "    for filename in log_files_file_names\n",
    "]\n",
    "snakemake_id = log_files_file_names[timestamps.index(max(timestamps))].split(\".\")[1]"
   ]
  },
  {
   "cell_type": "markdown",
   "metadata": {},
   "source": [
    "Let us add the information about the session ID to our run record:"
   ]
  },
  {
   "cell_type": "code",
   "execution_count": null,
   "metadata": {},
   "outputs": [],
   "source": [
    "run.reference = snakemake_id\n",
    "run.reference_type = \"snakemake_id\"\n",
    "run.save()"
   ]
  },
  {
   "cell_type": "markdown",
   "metadata": {
    "pycharm": {
     "name": "#%% md\n"
    }
   },
   "source": [
    "## Link biological entities\n",
    "\n",
    "To make the count matrix queryable by biological entities (genes, experimental metadata, etc.), we can now proceed with: {doc}`docs:bulkrna`"
   ]
  },
  {
   "cell_type": "markdown",
   "metadata": {},
   "source": [
    "## Visualize"
   ]
  },
  {
   "cell_type": "markdown",
   "metadata": {},
   "source": [
    "View data lineage:"
   ]
  },
  {
   "cell_type": "code",
   "execution_count": null,
   "metadata": {
    "pycharm": {
     "name": "#%%\n"
    }
   },
   "outputs": [],
   "source": [
    "count_matrix.view_flow()"
   ]
  },
  {
   "cell_type": "markdown",
   "metadata": {},
   "source": [
    "View the database content:"
   ]
  },
  {
   "cell_type": "code",
   "execution_count": null,
   "metadata": {
    "pycharm": {
     "name": "#%%\n"
    }
   },
   "outputs": [],
   "source": [
    "ln.view()"
   ]
  },
  {
   "cell_type": "markdown",
   "metadata": {},
   "source": [
    "Clean up the test instance:"
   ]
  },
  {
   "cell_type": "code",
   "execution_count": null,
   "metadata": {
    "pycharm": {
     "name": "#%%\n"
    },
    "tags": [
     "hide-output"
    ]
   },
   "outputs": [],
   "source": [
    "!lamin delete --force snakemake-bulkrna"
   ]
  }
 ],
 "metadata": {
  "kernelspec": {
   "display_name": "Python 3 (ipykernel)",
   "language": "python",
   "name": "python3"
  },
  "language_info": {
   "codemirror_mode": {
    "name": "ipython",
    "version": 3
   },
   "file_extension": ".py",
   "mimetype": "text/x-python",
   "name": "python",
   "nbconvert_exporter": "python",
   "pygments_lexer": "ipython3",
   "version": "3.10.12"
  }
 },
 "nbformat": 4,
 "nbformat_minor": 4
}
