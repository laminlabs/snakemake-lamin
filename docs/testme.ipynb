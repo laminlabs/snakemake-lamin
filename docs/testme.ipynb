{
 "cells": [
  {
   "cell_type": "code",
   "execution_count": null,
   "metadata": {},
   "outputs": [],
   "source": [
    "!snakemake \\\n",
    "    --directory rna-seq-star-deseq2/.test \\\n",
    "    --snakefile rna-seq-star-deseq2/workflow/Snakefile \\\n",
    "    --configfile rna-seq-star-deseq2/.test/config_basic/config.yaml \\\n",
    "    --use-conda \\\n",
    "    --show-failed-logs \\\n",
    "    --cores 2 \\\n",
    "    --conda-cleanup-pkgs cache"
   ]
  }
 ],
 "metadata": {
  "language_info": {
   "name": "python"
  }
 },
 "nbformat": 4,
 "nbformat_minor": 2
}
