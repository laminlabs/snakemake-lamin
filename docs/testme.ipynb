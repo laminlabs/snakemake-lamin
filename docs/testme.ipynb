{
 "cells": [
  {
   "cell_type": "code",
   "execution_count": null,
   "metadata": {},
   "outputs": [],
   "source": [
    "!snakemake \\\n",
    "    --directory rna-seq-star-deseq2/.test \\\n",
    "    --snakefile rna-seq-star-deseq2/workflow/Snakefile \\\n",
    "    --configfile rna-seq-star-deseq2/.test/config_basic/config.yaml \\\n",
    "    --use-conda \\\n",
    "    --show-failed-logs \\\n",
    "    --cores 2 \\\n",
    "    --conda-cleanup-pkgs cache"
   ]
  },
  {
   "cell_type": "code",
   "execution_count": null,
   "metadata": {},
   "outputs": [],
   "source": []
  }
 ],
 "metadata": {
  "kernelspec": {
   "display_name": "lamindb",
   "language": "python",
   "name": "python3"
  },
  "language_info": {
   "codemirror_mode": {
    "name": "ipython",
    "version": 3
   },
   "file_extension": ".py",
   "mimetype": "text/x-python",
   "name": "python",
   "nbconvert_exporter": "python",
   "pygments_lexer": "ipython3",
   "version": "3.10.12"
  }
 },
 "nbformat": 4,
 "nbformat_minor": 2
}
